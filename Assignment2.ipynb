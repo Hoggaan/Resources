{
 "cells": [
  {
   "cell_type": "code",
   "execution_count": 1,
   "id": "bbf6315e",
   "metadata": {},
   "outputs": [
    {
     "name": "stdout",
     "output_type": "stream",
     "text": [
      "22/07/13 20:25:18 WARN Utils: Your hostname, hoggaan-VirtualBox resolves to a loopback address: 127.0.1.1; using 10.0.2.15 instead (on interface enp0s3)\n",
      "22/07/13 20:25:18 WARN Utils: Set SPARK_LOCAL_IP if you need to bind to another address\n"
     ]
    },
    {
     "name": "stderr",
     "output_type": "stream",
     "text": [
      "Setting default log level to \"WARN\".\n",
      "To adjust logging level use sc.setLogLevel(newLevel). For SparkR, use setLogLevel(newLevel).\n"
     ]
    },
    {
     "name": "stdout",
     "output_type": "stream",
     "text": [
      "22/07/13 20:25:19 WARN NativeCodeLoader: Unable to load native-hadoop library for your platform... using builtin-java classes where applicable\n"
     ]
    }
   ],
   "source": [
    "# Importing \n",
    "from pyspark.sql import SparkSession\n",
    "spark=SparkSession.builder.master(\"local[1]\").appName(\"Assignment2 Queries\").getOrCreate()"
   ]
  },
  {
   "cell_type": "code",
   "execution_count": 2,
   "id": "71cad894",
   "metadata": {},
   "outputs": [],
   "source": [
    "# Uploading the dataset\n",
    "delays_path = \"LearningSparkV2/databricks-datasets/learning-spark-v2/flights/departuredelays.csv\""
   ]
  },
  {
   "cell_type": "code",
   "execution_count": 3,
   "id": "c500fbb1",
   "metadata": {},
   "outputs": [
    {
     "name": "stderr",
     "output_type": "stream",
     "text": [
      "                                                                                \r"
     ]
    }
   ],
   "source": [
    "# Create Dataframe\n",
    "DataFr = spark.read.options(inferSchema = True, header=True).csv(delays_path)"
   ]
  },
  {
   "cell_type": "code",
   "execution_count": 4,
   "id": "35e9aa4c",
   "metadata": {},
   "outputs": [
    {
     "name": "stdout",
     "output_type": "stream",
     "text": [
      "+-------+-----+--------+------+-----------+\n",
      "|   date|delay|distance|origin|destination|\n",
      "+-------+-----+--------+------+-----------+\n",
      "|1011245|    6|     602|   ABE|        ATL|\n",
      "|1020600|   -8|     369|   ABE|        DTW|\n",
      "|1021245|   -2|     602|   ABE|        ATL|\n",
      "|1020605|   -4|     602|   ABE|        ATL|\n",
      "|1031245|   -4|     602|   ABE|        ATL|\n",
      "|1030605|    0|     602|   ABE|        ATL|\n",
      "|1041243|   10|     602|   ABE|        ATL|\n",
      "|1040605|   28|     602|   ABE|        ATL|\n",
      "|1051245|   88|     602|   ABE|        ATL|\n",
      "|1050605|    9|     602|   ABE|        ATL|\n",
      "|1061215|   -6|     602|   ABE|        ATL|\n",
      "|1061725|   69|     602|   ABE|        ATL|\n",
      "|1061230|    0|     369|   ABE|        DTW|\n",
      "|1060625|   -3|     602|   ABE|        ATL|\n",
      "|1070600|    0|     369|   ABE|        DTW|\n",
      "|1071725|    0|     602|   ABE|        ATL|\n",
      "|1071230|    0|     369|   ABE|        DTW|\n",
      "|1070625|    0|     602|   ABE|        ATL|\n",
      "|1071219|    0|     569|   ABE|        ORD|\n",
      "|1080600|    0|     369|   ABE|        DTW|\n",
      "+-------+-----+--------+------+-----------+\n",
      "only showing top 20 rows\n",
      "\n"
     ]
    }
   ],
   "source": [
    "DataFr.show() # Showing the dataset"
   ]
  },
  {
   "cell_type": "code",
   "execution_count": 5,
   "id": "eb0813f8",
   "metadata": {},
   "outputs": [
    {
     "name": "stdout",
     "output_type": "stream",
     "text": [
      "root\n",
      " |-- date: integer (nullable = true)\n",
      " |-- delay: integer (nullable = true)\n",
      " |-- distance: integer (nullable = true)\n",
      " |-- origin: string (nullable = true)\n",
      " |-- destination: string (nullable = true)\n",
      "\n"
     ]
    }
   ],
   "source": [
    "DataFr.printSchema() # See the Schema"
   ]
  },
  {
   "cell_type": "code",
   "execution_count": 6,
   "id": "0c03c42a",
   "metadata": {},
   "outputs": [
    {
     "name": "stdout",
     "output_type": "stream",
     "text": [
      "+-------+-----+--------+------+-----------+\n",
      "|date   |delay|distance|origin|destination|\n",
      "+-------+-----+--------+------+-----------+\n",
      "|1011410|124  |1604    |SFO   |ORD        |\n",
      "|1022330|326  |1604    |SFO   |ORD        |\n",
      "|1021410|190  |1604    |SFO   |ORD        |\n",
      "|1101410|184  |1604    |SFO   |ORD        |\n",
      "|1190925|297  |1604    |SFO   |ORD        |\n",
      "|1241110|139  |1604    |SFO   |ORD        |\n",
      "|1301800|167  |1604    |SFO   |ORD        |\n",
      "|1011237|122  |1604    |SFO   |ORD        |\n",
      "|1032258|163  |1604    |SFO   |ORD        |\n",
      "|1031920|193  |1604    |SFO   |ORD        |\n",
      "|1031755|396  |1604    |SFO   |ORD        |\n",
      "|1071040|279  |1604    |SFO   |ORD        |\n",
      "|1161210|225  |1604    |SFO   |ORD        |\n",
      "|1221040|215  |1604    |SFO   |ORD        |\n",
      "|1261104|258  |1604    |SFO   |ORD        |\n",
      "|1020720|145  |1604    |SFO   |ORD        |\n",
      "|1021205|154  |1604    |SFO   |ORD        |\n",
      "|1031550|131  |1604    |SFO   |ORD        |\n",
      "|1041205|126  |1604    |SFO   |ORD        |\n",
      "|1051205|320  |1604    |SFO   |ORD        |\n",
      "+-------+-----+--------+------+-----------+\n",
      "only showing top 20 rows\n",
      "\n"
     ]
    }
   ],
   "source": [
    "# All the flights between Sun Francisco and Chikago\n",
    "DataFr.filter((DataFr.origin=='SFO') & (DataFr.destination=='ORD') & (DataFr.delay >= 120)).show(truncate=False)"
   ]
  },
  {
   "cell_type": "code",
   "execution_count": 7,
   "id": "54dcf290",
   "metadata": {},
   "outputs": [
    {
     "name": "stdout",
     "output_type": "stream",
     "text": [
      "+-------+-----+--------+------+-----------+\n",
      "|   date|delay|distance|origin|destination|\n",
      "+-------+-----+--------+------+-----------+\n",
      "|1011050|   -1|    3912|   ATL|        HNL|\n",
      "|1021050|    7|    3912|   ATL|        HNL|\n",
      "|1031050|   20|    3912|   ATL|        HNL|\n",
      "|1041050|    7|    3912|   ATL|        HNL|\n",
      "|1051050|   15|    3912|   ATL|        HNL|\n",
      "|1061050|   -1|    3912|   ATL|        HNL|\n",
      "|1071050|   49|    3912|   ATL|        HNL|\n",
      "|1081050|   10|    3912|   ATL|        HNL|\n",
      "|1091050|   -1|    3912|   ATL|        HNL|\n",
      "|1101050|    0|    3912|   ATL|        HNL|\n",
      "|1111050|  114|    3912|   ATL|        HNL|\n",
      "|1121050|   -2|    3912|   ATL|        HNL|\n",
      "|1131050|   93|    3912|   ATL|        HNL|\n",
      "|1141050|    0|    3912|   ATL|        HNL|\n",
      "|1151050|    0|    3912|   ATL|        HNL|\n",
      "|1161050|   -1|    3912|   ATL|        HNL|\n",
      "|1171050|   30|    3912|   ATL|        HNL|\n",
      "|1181050|    5|    3912|   ATL|        HNL|\n",
      "|1191050|   -5|    3912|   ATL|        HNL|\n",
      "|1201050|   -3|    3912|   ATL|        HNL|\n",
      "+-------+-----+--------+------+-----------+\n",
      "only showing top 20 rows\n",
      "\n"
     ]
    }
   ],
   "source": [
    "# Flights with more than 3000 miles\n",
    "DataFr.filter(DataFr.distance > 3000).show()"
   ]
  },
  {
   "cell_type": "code",
   "execution_count": 8,
   "id": "318bd830",
   "metadata": {},
   "outputs": [],
   "source": [
    "DataFr.createGlobalTempView('Flight_delay')"
   ]
  },
  {
   "cell_type": "code",
   "execution_count": 9,
   "id": "70e651c9",
   "metadata": {},
   "outputs": [
    {
     "name": "stdout",
     "output_type": "stream",
     "text": [
      "+-------+-----+--------+------+-----------+\n",
      "|   date|delay|distance|origin|destination|\n",
      "+-------+-----+--------+------+-----------+\n",
      "|1011050|   -1|    3912|   ATL|        HNL|\n",
      "|1021050|    7|    3912|   ATL|        HNL|\n",
      "|1031050|   20|    3912|   ATL|        HNL|\n",
      "|1041050|    7|    3912|   ATL|        HNL|\n",
      "|1051050|   15|    3912|   ATL|        HNL|\n",
      "|1061050|   -1|    3912|   ATL|        HNL|\n",
      "|1071050|   49|    3912|   ATL|        HNL|\n",
      "|1081050|   10|    3912|   ATL|        HNL|\n",
      "|1091050|   -1|    3912|   ATL|        HNL|\n",
      "|1101050|    0|    3912|   ATL|        HNL|\n",
      "|1111050|  114|    3912|   ATL|        HNL|\n",
      "|1121050|   -2|    3912|   ATL|        HNL|\n",
      "|1131050|   93|    3912|   ATL|        HNL|\n",
      "|1141050|    0|    3912|   ATL|        HNL|\n",
      "|1151050|    0|    3912|   ATL|        HNL|\n",
      "|1161050|   -1|    3912|   ATL|        HNL|\n",
      "|1171050|   30|    3912|   ATL|        HNL|\n",
      "|1181050|    5|    3912|   ATL|        HNL|\n",
      "|1191050|   -5|    3912|   ATL|        HNL|\n",
      "|1201050|   -3|    3912|   ATL|        HNL|\n",
      "+-------+-----+--------+------+-----------+\n",
      "only showing top 20 rows\n",
      "\n"
     ]
    }
   ],
   "source": [
    "# Flights with more than 3000 miles in SQL query\n",
    "spark.sql(\"SELECT * FROM global_temp.Flight_delay WHERE distance > 3000\").show()"
   ]
  },
  {
   "cell_type": "code",
   "execution_count": 10,
   "id": "b1c0785f",
   "metadata": {},
   "outputs": [
    {
     "name": "stderr",
     "output_type": "stream",
     "text": [
      "\r",
      "[Stage 6:>                                                          (0 + 1) / 1]\r"
     ]
    },
    {
     "name": "stdout",
     "output_type": "stream",
     "text": [
      "+-------------+\n",
      "|LongDistances|\n",
      "+-------------+\n",
      "|         4330|\n",
      "|         4330|\n",
      "|         4330|\n",
      "|         4330|\n",
      "|         4330|\n",
      "|         4330|\n",
      "|         4330|\n",
      "|         4330|\n",
      "|         4330|\n",
      "|         4330|\n",
      "+-------------+\n",
      "\n"
     ]
    },
    {
     "name": "stderr",
     "output_type": "stream",
     "text": [
      "\r",
      "                                                                                \r"
     ]
    }
   ],
   "source": [
    "# Top 10 long distances with renamed column Name\n",
    "spark.sql(\"SELECT distance AS LongDistances FROM global_temp.Flight_delay ORDER BY distance DESC LIMIT 10\").show()"
   ]
  },
  {
   "cell_type": "code",
   "execution_count": 11,
   "id": "c0dec22a",
   "metadata": {},
   "outputs": [
    {
     "name": "stderr",
     "output_type": "stream",
     "text": [
      "\r",
      "[Stage 7:>                                                          (0 + 1) / 1]\r"
     ]
    },
    {
     "name": "stdout",
     "output_type": "stream",
     "text": [
      "+------------+\n",
      "|count(delay)|\n",
      "+------------+\n",
      "|       24735|\n",
      "+------------+\n",
      "\n"
     ]
    },
    {
     "name": "stderr",
     "output_type": "stream",
     "text": [
      "\r",
      "                                                                                \r"
     ]
    }
   ],
   "source": [
    "# Count of the flights with delay between 50 and 60\n",
    "spark.sql(\"SELECT count(delay) FROM global_temp.Flight_delay WHERE delay between 50 AND 60\").show()"
   ]
  },
  {
   "cell_type": "code",
   "execution_count": 13,
   "id": "d9868343",
   "metadata": {},
   "outputs": [
    {
     "name": "stderr",
     "output_type": "stream",
     "text": [
      "\r",
      "[Stage 13:>                                                         (0 + 1) / 1]\r"
     ]
    },
    {
     "name": "stdout",
     "output_type": "stream",
     "text": [
      "+-----------+\n",
      "|destination|\n",
      "+-----------+\n",
      "|        ATL|\n",
      "|        DFW|\n",
      "|        ORD|\n",
      "|        LAX|\n",
      "|        DEN|\n",
      "|        IAH|\n",
      "|        PHX|\n",
      "|        SFO|\n",
      "|        LAS|\n",
      "|        CLT|\n",
      "+-----------+\n",
      "\n"
     ]
    },
    {
     "name": "stderr",
     "output_type": "stream",
     "text": [
      "\r",
      "                                                                                \r"
     ]
    }
   ],
   "source": [
    "# Top 10 destinations.\n",
    "spark.sql(\"SELECT destination FROM global_temp.Flight_delay GROUP BY destination ORDER BY count(destination) DESC LIMIT 10\").show()"
   ]
  },
  {
   "cell_type": "code",
   "execution_count": 14,
   "id": "fbb646cb",
   "metadata": {},
   "outputs": [
    {
     "name": "stderr",
     "output_type": "stream",
     "text": [
      "\r",
      "[Stage 16:>                                                         (0 + 1) / 1]\r"
     ]
    },
    {
     "name": "stdout",
     "output_type": "stream",
     "text": [
      "+-----------+\n",
      "|destination|\n",
      "+-----------+\n",
      "|        PSE|\n",
      "|        INL|\n",
      "|        MSY|\n",
      "|        PPG|\n",
      "|        GEG|\n",
      "|        SNA|\n",
      "|        BUR|\n",
      "|        GRB|\n",
      "|        GTF|\n",
      "|        IDA|\n",
      "|        GRR|\n",
      "|        JLN|\n",
      "|        EUG|\n",
      "|        PSG|\n",
      "|        PVD|\n",
      "|        GSO|\n",
      "|        MYR|\n",
      "|        OAK|\n",
      "|        MSN|\n",
      "|        FSM|\n",
      "+-----------+\n",
      "only showing top 20 rows\n",
      "\n"
     ]
    },
    {
     "name": "stderr",
     "output_type": "stream",
     "text": [
      "\r",
      "                                                                                \r"
     ]
    }
   ],
   "source": [
    "# All the cities where flights have delay info.\n",
    "spark.sql(\"SELECT DISTINCT destination from global_temp.Flight_delay WHERE delay IS NOT NULL\").show()"
   ]
  },
  {
   "cell_type": "code",
   "execution_count": 15,
   "id": "9b53daac",
   "metadata": {},
   "outputs": [
    {
     "name": "stdout",
     "output_type": "stream",
     "text": [
      "+-------+-----+--------+------+-----------+\n",
      "|   date|delay|distance|origin|destination|\n",
      "+-------+-----+--------+------+-----------+\n",
      "|1011645|  142|    2151|   JFK|        LAX|\n",
      "|1021700|  195|    1953|   JFK|        LAS|\n",
      "|1021530|  127|    2247|   JFK|        SFO|\n",
      "|1022135|  150|    2151|   JFK|        LAX|\n",
      "|1021715|  125|    1322|   JFK|        AUS|\n",
      "|1021900|  159|    1388|   JFK|        SJU|\n",
      "|1031700|  317|    1953|   JFK|        LAS|\n",
      "|1031715|  156|    1322|   JFK|        AUS|\n",
      "|1041850|  193|    2104|   JFK|        SEA|\n",
      "|1050800|  272|    2247|   JFK|        SFO|\n",
      "|1051745|  243|    2247|   JFK|        SFO|\n",
      "|1052135|  145|    2151|   JFK|        LAX|\n",
      "|1050750|  210|    1410|   JFK|        STT|\n",
      "|1050805|  160|    1388|   JFK|        SJU|\n",
      "|1051730|  248|    1517|   JFK|        EGE|\n",
      "|1061030|  172|    2247|   JFK|        SFO|\n",
      "|1101030|  265|    2247|   JFK|        SFO|\n",
      "|1111700|  178|    1953|   JFK|        LAS|\n",
      "|1111705|  141|    2125|   JFK|        SAN|\n",
      "|1111715|  182|    1322|   JFK|        AUS|\n",
      "+-------+-----+--------+------+-----------+\n",
      "only showing top 20 rows\n",
      "\n"
     ]
    }
   ],
   "source": [
    "# Create New Data frame with all records having JFK.\n",
    "nyData = DataFr.filter((DataFr.origin == 'JFK') & (DataFr.distance > 1000) & (DataFr.delay > 120))\n",
    "nyData.show()"
   ]
  },
  {
   "cell_type": "code",
   "execution_count": null,
   "id": "172c3177",
   "metadata": {},
   "outputs": [],
   "source": []
  }
 ],
 "metadata": {
  "kernelspec": {
   "display_name": "Python 3 (ipykernel)",
   "language": "python",
   "name": "python3"
  },
  "language_info": {
   "codemirror_mode": {
    "name": "ipython",
    "version": 3
   },
   "file_extension": ".py",
   "mimetype": "text/x-python",
   "name": "python",
   "nbconvert_exporter": "python",
   "pygments_lexer": "ipython3",
   "version": "3.9.12"
  }
 },
 "nbformat": 4,
 "nbformat_minor": 5
}
